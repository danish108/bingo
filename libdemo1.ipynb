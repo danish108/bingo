{
 "cells": [
  {
   "cell_type": "code",
   "execution_count": 1,
   "metadata": {},
   "outputs": [
    {
     "name": "stdout",
     "output_type": "stream",
     "text": [
      "importing Jupyter notebook from mymodule.ipynb\n",
      "hello,danish\n"
     ]
    }
   ],
   "source": [
    "import import_ipynb\n",
    "import mymodule\n",
    "mymodule.greeting('danish')"
   ]
  },
  {
   "cell_type": "code",
   "execution_count": null,
   "metadata": {},
   "outputs": [],
   "source": [
    "def add(a,b):\n",
    "    c=a+b\n",
    "    print(c)\n",
    "    return(c)\n",
    "def sub(a,b):\n",
    "    e=a-b\n",
    "    print(e)\n",
    "    return(e)\n",
    "def mul(a,b):\n",
    "    f=a*b\n",
    "    print(f)\n",
    "    return(f)\n",
    "def div(a,b):\n",
    "    d=a/b\n",
    "    print(d)\n",
    "    return(d)\n",
    "def even(x):\n",
    "    if(x%2==0):\n",
    "        print('even')\n",
    "    else:\n",
    "        print('odd')\n",
    "        print(x)\n",
    "        return(x)\n",
    "\n",
    "g=int(input('enter value'))\n",
    "h=int(input('enter value'))\n",
    "y=int(input('enter value'))\n",
    "choice=int(input(\"enter your choice add 1,sub 2,mul 3,div 4,even/odd 5\"))\n",
    "if(choice==1):\n",
    "    print('suum will be',add(g,h))\n",
    "elif(choice==2):\n",
    "     print('suubtraction will be',sub(g,h))\n",
    "elif(choice==3):\n",
    "    print('mul. will be',mul(g,h))\n",
    "elif(choice==4):\n",
    "     print('div. will be',div(g,h))\n",
    "elif(choice==5):\n",
    "     print('even/odd will be',even(y))\n",
    "else:\n",
    "    print('wrong input')"
   ]
  }
 ],
 "metadata": {
  "kernelspec": {
   "display_name": "Python 3",
   "language": "python",
   "name": "python3"
  },
  "language_info": {
   "codemirror_mode": {
    "name": "ipython",
    "version": 3
   },
   "file_extension": ".py",
   "mimetype": "text/x-python",
   "name": "python",
   "nbconvert_exporter": "python",
   "pygments_lexer": "ipython3",
   "version": "3.8.3"
  }
 },
 "nbformat": 4,
 "nbformat_minor": 4
}
